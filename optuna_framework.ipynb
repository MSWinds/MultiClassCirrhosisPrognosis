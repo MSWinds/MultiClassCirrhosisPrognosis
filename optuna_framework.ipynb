{
 "cells": [
  {
   "cell_type": "code",
   "execution_count": 204,
   "metadata": {},
   "outputs": [],
   "source": [
    "import optuna\n",
    "import numpy as np\n",
    "import pandas as pd\n",
    "from optuna.integration.lightgbm import LightGBMTunerCV as lgbcv\n",
    "from lightgbm import LGBMClassifier\n",
    "import lightgbm as lgb\n",
    "from lightgbm import early_stopping, log_evaluation, Dataset\n",
    "from optuna.integration import LightGBMPruningCallback\n",
    "import warnings\n",
    "warnings.filterwarnings('ignore')\n",
    "optuna.logging.set_verbosity(optuna.logging.WARNING)\n",
    "from sklearn.model_selection import train_test_split"
   ]
  },
  {
   "cell_type": "code",
   "execution_count": 189,
   "metadata": {},
   "outputs": [],
   "source": [
    "train = pd.read_csv('data/train_cleaned.csv')\n",
    "test = pd.read_csv('data/test_cleaned.csv')"
   ]
  },
  {
   "cell_type": "code",
   "execution_count": 190,
   "metadata": {},
   "outputs": [
    {
     "data": {
      "text/plain": [
       "id                 int64\n",
       "N_Days             int64\n",
       "Drug               int64\n",
       "Age                int64\n",
       "Sex                int64\n",
       "Ascites            int64\n",
       "Hepatomegaly       int64\n",
       "Spiders            int64\n",
       "Edema             object\n",
       "Bilirubin        float64\n",
       "Cholesterol      float64\n",
       "Albumin          float64\n",
       "Copper           float64\n",
       "Alk_Phos         float64\n",
       "SGOT             float64\n",
       "Tryglicerides    float64\n",
       "Platelets        float64\n",
       "Prothrombin      float64\n",
       "Stage              int64\n",
       "Status            object\n",
       "dtype: object"
      ]
     },
     "execution_count": 190,
     "metadata": {},
     "output_type": "execute_result"
    }
   ],
   "source": [
    "train.dtypes"
   ]
  },
  {
   "cell_type": "code",
   "execution_count": 191,
   "metadata": {},
   "outputs": [],
   "source": [
    "# drop id\n",
    "train = train.drop(['id'], axis=1)\n",
    "\n",
    "X_train, X_val, y_train, y_val = train_test_split(train.drop(['Status'], axis=1), train['Status'], test_size=0.2, random_state=66)"
   ]
  },
  {
   "cell_type": "code",
   "execution_count": 192,
   "metadata": {},
   "outputs": [
    {
     "data": {
      "text/plain": [
       "['Edema']"
      ]
     },
     "execution_count": 192,
     "metadata": {},
     "output_type": "execute_result"
    }
   ],
   "source": [
    "# get list of categorical features\n",
    "categorical_features = [col for col in X_train.columns if X_train[col].dtype == 'object']\n",
    "# convert to category\n",
    "for col in categorical_features:\n",
    "    X_train[col] = X_train[col].astype('category')\n",
    "    X_val[col] = X_val[col].astype('category')\n",
    "categorical_features"
   ]
  },
  {
   "cell_type": "code",
   "execution_count": 193,
   "metadata": {},
   "outputs": [
    {
     "data": {
      "text/plain": [
       "array(['C', 'CL', 'D'], dtype=object)"
      ]
     },
     "execution_count": 193,
     "metadata": {},
     "output_type": "execute_result"
    }
   ],
   "source": [
    "# label encode target\n",
    "from sklearn.preprocessing import LabelEncoder\n",
    "le = LabelEncoder()\n",
    "y_train = le.fit_transform(y_train)\n",
    "y_val = le.transform(y_val)\n",
    "\n",
    "# check label encoding, 0, 1, 2\n",
    "le.classes_"
   ]
  },
  {
   "cell_type": "code",
   "execution_count": 194,
   "metadata": {},
   "outputs": [
    {
     "data": {
      "text/plain": [
       "(array([0, 1, 2]), array([3962,  226, 2136], dtype=int64))"
      ]
     },
     "execution_count": 194,
     "metadata": {},
     "output_type": "execute_result"
    }
   ],
   "source": [
    "# check target balance\n",
    "np.unique(y_train, return_counts=True)"
   ]
  },
  {
   "cell_type": "markdown",
   "metadata": {},
   "source": [
    "## LightGBM"
   ]
  },
  {
   "cell_type": "markdown",
   "metadata": {},
   "source": [
    "### Auto Tuning"
   ]
  },
  {
   "cell_type": "code",
   "execution_count": 158,
   "metadata": {},
   "outputs": [],
   "source": [
    "# auto tuner\n",
    "auto_tuner_params = {\n",
    "    'objective': 'multiclass',\n",
    "    'metric': 'multi_logloss',\n",
    "    'boosting': 'gbdt',\n",
    "    'verbosity': -1,\n",
    "    'num_class': 3,\n",
    "    'auto_class_weights': 'balanced'\n",
    "    }\n",
    "\n",
    "train_data = Dataset(X_train, label=y_train, categorical_feature=categorical_features)\n",
    "\n",
    "study_auto_lgb = optuna.create_study(direction='minimize', study_name='LightGBM Auto Tuner CV')\n",
    "\n",
    "auto_tuner = lgbcv(\n",
    "    params=auto_tuner_params,\n",
    "    train_set=train_data,\n",
    "    study=study_auto_lgb,\n",
    "    callbacks=[early_stopping(2)],\n",
    "    nfold=10,\n",
    "    optuna_seed=666,\n",
    "    seed=666\n",
    "    )"
   ]
  },
  {
   "cell_type": "code",
   "execution_count": null,
   "metadata": {},
   "outputs": [],
   "source": [
    "auto_tuner.run()"
   ]
  },
  {
   "cell_type": "code",
   "execution_count": 195,
   "metadata": {},
   "outputs": [
    {
     "data": {
      "text/html": [
       "<style>#sk-container-id-3 {color: black;}#sk-container-id-3 pre{padding: 0;}#sk-container-id-3 div.sk-toggleable {background-color: white;}#sk-container-id-3 label.sk-toggleable__label {cursor: pointer;display: block;width: 100%;margin-bottom: 0;padding: 0.3em;box-sizing: border-box;text-align: center;}#sk-container-id-3 label.sk-toggleable__label-arrow:before {content: \"▸\";float: left;margin-right: 0.25em;color: #696969;}#sk-container-id-3 label.sk-toggleable__label-arrow:hover:before {color: black;}#sk-container-id-3 div.sk-estimator:hover label.sk-toggleable__label-arrow:before {color: black;}#sk-container-id-3 div.sk-toggleable__content {max-height: 0;max-width: 0;overflow: hidden;text-align: left;background-color: #f0f8ff;}#sk-container-id-3 div.sk-toggleable__content pre {margin: 0.2em;color: black;border-radius: 0.25em;background-color: #f0f8ff;}#sk-container-id-3 input.sk-toggleable__control:checked~div.sk-toggleable__content {max-height: 200px;max-width: 100%;overflow: auto;}#sk-container-id-3 input.sk-toggleable__control:checked~label.sk-toggleable__label-arrow:before {content: \"▾\";}#sk-container-id-3 div.sk-estimator input.sk-toggleable__control:checked~label.sk-toggleable__label {background-color: #d4ebff;}#sk-container-id-3 div.sk-label input.sk-toggleable__control:checked~label.sk-toggleable__label {background-color: #d4ebff;}#sk-container-id-3 input.sk-hidden--visually {border: 0;clip: rect(1px 1px 1px 1px);clip: rect(1px, 1px, 1px, 1px);height: 1px;margin: -1px;overflow: hidden;padding: 0;position: absolute;width: 1px;}#sk-container-id-3 div.sk-estimator {font-family: monospace;background-color: #f0f8ff;border: 1px dotted black;border-radius: 0.25em;box-sizing: border-box;margin-bottom: 0.5em;}#sk-container-id-3 div.sk-estimator:hover {background-color: #d4ebff;}#sk-container-id-3 div.sk-parallel-item::after {content: \"\";width: 100%;border-bottom: 1px solid gray;flex-grow: 1;}#sk-container-id-3 div.sk-label:hover label.sk-toggleable__label {background-color: #d4ebff;}#sk-container-id-3 div.sk-serial::before {content: \"\";position: absolute;border-left: 1px solid gray;box-sizing: border-box;top: 0;bottom: 0;left: 50%;z-index: 0;}#sk-container-id-3 div.sk-serial {display: flex;flex-direction: column;align-items: center;background-color: white;padding-right: 0.2em;padding-left: 0.2em;position: relative;}#sk-container-id-3 div.sk-item {position: relative;z-index: 1;}#sk-container-id-3 div.sk-parallel {display: flex;align-items: stretch;justify-content: center;background-color: white;position: relative;}#sk-container-id-3 div.sk-item::before, #sk-container-id-3 div.sk-parallel-item::before {content: \"\";position: absolute;border-left: 1px solid gray;box-sizing: border-box;top: 0;bottom: 0;left: 50%;z-index: -1;}#sk-container-id-3 div.sk-parallel-item {display: flex;flex-direction: column;z-index: 1;position: relative;background-color: white;}#sk-container-id-3 div.sk-parallel-item:first-child::after {align-self: flex-end;width: 50%;}#sk-container-id-3 div.sk-parallel-item:last-child::after {align-self: flex-start;width: 50%;}#sk-container-id-3 div.sk-parallel-item:only-child::after {width: 0;}#sk-container-id-3 div.sk-dashed-wrapped {border: 1px dashed gray;margin: 0 0.4em 0.5em 0.4em;box-sizing: border-box;padding-bottom: 0.4em;background-color: white;}#sk-container-id-3 div.sk-label label {font-family: monospace;font-weight: bold;display: inline-block;line-height: 1.2em;}#sk-container-id-3 div.sk-label-container {text-align: center;}#sk-container-id-3 div.sk-container {/* jupyter's `normalize.less` sets `[hidden] { display: none; }` but bootstrap.min.css set `[hidden] { display: none !important; }` so we also need the `!important` here to be able to override the default hidden behavior on the sphinx rendered scikit-learn.org. See: https://github.com/scikit-learn/scikit-learn/issues/21755 */display: inline-block !important;position: relative;}#sk-container-id-3 div.sk-text-repr-fallback {display: none;}</style><div id=\"sk-container-id-3\" class=\"sk-top-container\"><div class=\"sk-text-repr-fallback\"><pre>LGBMClassifier(auto_class_weights=&#x27;balanced&#x27;, bagging_fraction=1.0,\n",
       "               bagging_freq=0, boosting=&#x27;gbdt&#x27;, feature_fraction=0.4,\n",
       "               feature_pre_filter=False, lambda_l1=1.9244268848741548,\n",
       "               lambda_l2=2.5370679601187212e-08, metric=&#x27;multi_logloss&#x27;,\n",
       "               num_class=3, objective=&#x27;multiclass&#x27;, random_state=666,\n",
       "               verbosity=-1)</pre><b>In a Jupyter environment, please rerun this cell to show the HTML representation or trust the notebook. <br />On GitHub, the HTML representation is unable to render, please try loading this page with nbviewer.org.</b></div><div class=\"sk-container\" hidden><div class=\"sk-item\"><div class=\"sk-estimator sk-toggleable\"><input class=\"sk-toggleable__control sk-hidden--visually\" id=\"sk-estimator-id-3\" type=\"checkbox\" checked><label for=\"sk-estimator-id-3\" class=\"sk-toggleable__label sk-toggleable__label-arrow\">LGBMClassifier</label><div class=\"sk-toggleable__content\"><pre>LGBMClassifier(auto_class_weights=&#x27;balanced&#x27;, bagging_fraction=1.0,\n",
       "               bagging_freq=0, boosting=&#x27;gbdt&#x27;, feature_fraction=0.4,\n",
       "               feature_pre_filter=False, lambda_l1=1.9244268848741548,\n",
       "               lambda_l2=2.5370679601187212e-08, metric=&#x27;multi_logloss&#x27;,\n",
       "               num_class=3, objective=&#x27;multiclass&#x27;, random_state=666,\n",
       "               verbosity=-1)</pre></div></div></div></div></div>"
      ],
      "text/plain": [
       "LGBMClassifier(auto_class_weights='balanced', bagging_fraction=1.0,\n",
       "               bagging_freq=0, boosting='gbdt', feature_fraction=0.4,\n",
       "               feature_pre_filter=False, lambda_l1=1.9244268848741548,\n",
       "               lambda_l2=2.5370679601187212e-08, metric='multi_logloss',\n",
       "               num_class=3, objective='multiclass', random_state=666,\n",
       "               verbosity=-1)"
      ]
     },
     "execution_count": 195,
     "metadata": {},
     "output_type": "execute_result"
    }
   ],
   "source": [
    "# fit model with best params\n",
    "best_params = auto_tuner.best_params\n",
    "\n",
    "best_model = LGBMClassifier(**best_params, random_state=666)\n",
    "best_model.fit(X_train, y_train, categorical_feature=categorical_features)\n"
   ]
  },
  {
   "cell_type": "code",
   "execution_count": 199,
   "metadata": {},
   "outputs": [
    {
     "name": "stdout",
     "output_type": "stream",
     "text": [
      "Train Log Loss: 0.22732762814688576\n",
      "Val Log Loss: 0.4172626803280405\n"
     ]
    }
   ],
   "source": [
    "# predict on validation set with probabilities\n",
    "y_prob = best_model.predict_proba(X_val)\n",
    "\n",
    "# evaluate log_loss\n",
    "from sklearn.metrics import log_loss\n",
    "print(f'Train Log Loss: {log_loss(y_train, best_model.predict_proba(X_train))}')\n",
    "print(f'Val Log Loss: {log_loss(y_val, y_prob)}')"
   ]
  },
  {
   "cell_type": "markdown",
   "metadata": {},
   "source": [
    "### Manual Tuning"
   ]
  },
  {
   "cell_type": "code",
   "execution_count": 219,
   "metadata": {},
   "outputs": [],
   "source": [
    "# manual define the params\n",
    "def objective(trial):\n",
    "    params = {\n",
    "        'objective': 'multiclass',\n",
    "        'metric': 'multi_logloss',\n",
    "        'boosting': trial.suggest_categorical('boosting', ['gbdt', 'dart','rf']),\n",
    "        'verbosity': -1,\n",
    "        'num_class': 3,\n",
    "        # 'auto_class_weights': trial.suggest_categorical('auto_class_weights', ['balanced', 'sqrt_balanced', 'None']),\n",
    "        # 'learning_rate': trial.suggest_loguniform('learning_rate', 1e-3, 1e-1),\n",
    "        # 'num_leaves': trial.suggest_int('num_leaves', 2, 256),\n",
    "        # 'max_depth': trial.suggest_int('max_depth', 2, 256),\n",
    "        # 'min_data_in_leaf': trial.suggest_int('min_data_in_leaf', 1, 256),\n",
    "        # 'feature_fraction': trial.suggest_uniform('feature_fraction', 0.4, 1.0),\n",
    "        # 'bagging_fraction': trial.suggest_uniform('bagging_fraction', 0.4, 1.0),\n",
    "        # 'bagging_freq': trial.suggest_int('bagging_freq', 1, 7),\n",
    "        # 'lambda_l1': trial.suggest_loguniform('lambda_l1', 1e-8, 10.0),\n",
    "        # 'lambda_l2': trial.suggest_loguniform('lambda_l2', 1e-8, 10.0),\n",
    "        # 'min_child_samples': trial.suggest_int('min_child_samples', 5, 100),\n",
    "        'random_state': 666\n",
    "        }\n",
    "    train_data = Dataset(X_train, label=y_train, categorical_feature=categorical_features)\n",
    "    pruning_callback = LightGBMPruningCallback(trial, 'multi_logloss')\n",
    "    cv_results = lgb.cv(\n",
    "        params=params,\n",
    "        train_set=train_data,\n",
    "        num_boost_round = trial.suggest_int('num_boost_round', 100, 1000),\n",
    "        nfold=10,\n",
    "        seed=666,\n",
    "        stratified=True,\n",
    "        callbacks=[pruning_callback,early_stopping(10)],\n",
    "        )\n",
    "    return cv_results['valid multi_logloss-mean'][-1]\n"
   ]
  },
  {
   "cell_type": "code",
   "execution_count": null,
   "metadata": {},
   "outputs": [],
   "source": [
    "study = optuna.create_study(direction='minimize', study_name='LightGBM Manual Tuner CV', pruner=optuna.pruners.MedianPruner(n_warmup_steps=5))\n",
    "study.optimize(objective, n_trials=150)"
   ]
  },
  {
   "cell_type": "code",
   "execution_count": null,
   "metadata": {},
   "outputs": [],
   "source": [
    "..."
   ]
  },
  {
   "cell_type": "code",
   "execution_count": null,
   "metadata": {},
   "outputs": [],
   "source": [
    "..."
   ]
  },
  {
   "cell_type": "markdown",
   "metadata": {},
   "source": [
    "### Xgboost"
   ]
  },
  {
   "cell_type": "markdown",
   "metadata": {},
   "source": []
  }
 ],
 "metadata": {
  "kernelspec": {
   "display_name": "Python 3",
   "language": "python",
   "name": "python3"
  },
  "language_info": {
   "codemirror_mode": {
    "name": "ipython",
    "version": 3
   },
   "file_extension": ".py",
   "mimetype": "text/x-python",
   "name": "python",
   "nbconvert_exporter": "python",
   "pygments_lexer": "ipython3",
   "version": "3.11.4"
  }
 },
 "nbformat": 4,
 "nbformat_minor": 2
}
